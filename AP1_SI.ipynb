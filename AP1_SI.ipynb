{
  "nbformat": 4,
  "nbformat_minor": 0,
  "metadata": {
    "colab": {
      "provenance": []
    },
    "kernelspec": {
      "name": "python3",
      "display_name": "Python 3"
    },
    "language_info": {
      "name": "python"
    }
  },
  "cells": [
    {
      "cell_type": "code",
      "execution_count": null,
      "metadata": {
        "id": "XvPMAPOcGAL3"
      },
      "outputs": [],
      "source": [
        "Servidor que faça autenticação envie uma mensagem e criptografe a mesma com verificação do hash\n",
        "na parte do recebimento e com uma resposta criptografada dizendo que a mensagem foi entregue"
      ]
    },
    {
      "cell_type": "code",
      "source": [],
      "metadata": {
        "id": "q-1V5URubJKX"
      },
      "execution_count": null,
      "outputs": []
    },
    {
      "cell_type": "code",
      "source": [
        "tentativas_max = 3\n",
        "tentativa_atual = 0\n",
        "users = {\n",
        "    \"santiago\": \"063688\",\n",
        "    \"kauan\": \"987654\"\n",
        "}\n",
        "\n",
        "while(tentativa_atual < tentativas_max):\n",
        "  user = input(\"Digite o usuário: \").lower().strip()\n",
        "\n",
        "  if user in users and users[user] == input(\"Digite a senha: \").strip():\n",
        "    print(\"Acesso autorizado\")\n",
        "    msgm = input(\"digite a sua mensagem: \")\n",
        "    hash_object = hashlib.sha256()\n",
        "    hash_object.update(msgm.encode('utf-8'))\n",
        "    access = True\n",
        "    break\n",
        "  else:\n",
        "    tentativa_atual += 1\n",
        "    restante = tentativas_max - tentativa_atual\n",
        "\n",
        "    if restante > 0:\n",
        "      print(\"usuario ou senha incorreta, tentativas restantes \",restante)\n",
        "    else:\n",
        "      print(\"Numero de tentativas excedidas. Acesso bloqueado!\")\n",
        "      break"
      ],
      "metadata": {
        "colab": {
          "base_uri": "https://localhost:8080/"
        },
        "id": "0iFXQWZ1aLJL",
        "outputId": "fedca5de-0eee-41a1-b85f-70429c8a1852"
      },
      "execution_count": null,
      "outputs": [
        {
          "name": "stdout",
          "output_type": "stream",
          "text": [
            "Digite o usuário: kauan\n",
            "Digite a senha: 987654\n",
            "Acesso autorizado\n",
            "digite a sua mensagem: Ola mundo\n"
          ]
        }
      ]
    },
    {
      "cell_type": "code",
      "source": [
        "import hashlib\n",
        "from cryptography.hazmat.primitives.ciphers import Cipher, algorithms, modes\n",
        "from cryptography.hazmat.primitives import padding\n",
        "import os\n",
        "\n",
        "#Tirando o Hash\n",
        "hash_object = hashlib.sha256()\n",
        "hash_object.update(msgm.encode('utf-8'))\n",
        "hash_hex = hash_object.hexdigest()\n",
        "\n",
        "hash_armazenado = hash_hex\n",
        "\n",
        "#preparando a criptografia\n",
        "key = os.urandom(32)\n",
        "iv = os.urandom(16)\n",
        "cipher = Cipher(algorithms.AES(key),modes.CBC(iv))\n",
        "msgm_bytes = msgm.encode('utf-8')\n",
        "padder = padding.PKCS7(128).padder()\n",
        "msgm_bytes_padded = padder.update(msgm_bytes)+padder.finalize()\n",
        "encryptor = cipher.encryptor()\n",
        "ciphertext = encryptor.update(msgm_bytes_padded)+encryptor.finalize()\n",
        "print(ciphertext)"
      ],
      "metadata": {
        "id": "FTZqOmlsHGUp",
        "colab": {
          "base_uri": "https://localhost:8080/"
        },
        "outputId": "1b0289a4-6d3e-4114-ed2b-45fdc11e5004"
      },
      "execution_count": null,
      "outputs": [
        {
          "output_type": "stream",
          "name": "stdout",
          "text": [
            "b'\\xa6\\x82\\xacc\\x87\\xf1L\\xc35\\xc4\"\\x7f`\\x83\\xd5\\x9e'\n"
          ]
        }
      ]
    },
    {
      "cell_type": "code",
      "source": [
        "#Descriptografando\n",
        "decryptor = cipher.decryptor()\n",
        "plaintext_padded = decryptor.update(ciphertext) + decryptor.finalize()\n",
        "unpadder = padding.PKCS7(128).unpadder()\n",
        "plaintext = unpadder.update(plaintext_padded) + unpadder.finalize()\n",
        "\n",
        "#Tirando o Hash da descriptografia\n",
        "hash_object = hashlib.sha256(plaintext)\n",
        "hash_atual = hash_object.hexdigest()\n",
        "\n",
        "#Comparando os Hash para exibição das mensagens\n",
        "if hash_atual == hash_armazenado:\n",
        "  print(\"Mensagem recebida com sucesso!\")\n",
        "  decodetext = plaintext.decode('utf-8')\n",
        "  print(\"Texto claro:\", decodetext)\n",
        "else:\n",
        "  print(\"Mensagem comprometida\")"
      ],
      "metadata": {
        "colab": {
          "base_uri": "https://localhost:8080/"
        },
        "id": "78941fwxeJkW",
        "outputId": "75bad1ea-f0d5-498c-84cf-adf5a045ff6e"
      },
      "execution_count": null,
      "outputs": [
        {
          "output_type": "stream",
          "name": "stdout",
          "text": [
            "Mensagem recebida com sucesso!\n",
            "Texto claro: Ola mundo\n"
          ]
        }
      ]
    }
  ]
}